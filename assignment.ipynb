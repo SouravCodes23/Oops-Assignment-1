{
 "cells": [
  {
   "cell_type": "markdown",
   "id": "b7e08df0-b659-480c-bebd-f831ced13a1f",
   "metadata": {},
   "source": [
    "Q1. Explain Class and Object with respect to Object-Oriented Programming. Give a suitable example."
   ]
  },
  {
   "cell_type": "markdown",
   "id": "c2a3cdf3-cfaf-4296-a961-63039813286d",
   "metadata": {},
   "source": [
    "In Object-Oriented Programming  a class is  for creating objects in a particular data structure, providing initial values for state \n",
    " variables, and implementations of behavior . A class is a template for objects.\n",
    "    \n",
    "An object, on the other hand, is an instance of a class. It is a concrete realization of the class blueprint, possessing its own unique \n",
    "state and behavior."
   ]
  },
  {
   "cell_type": "code",
   "execution_count": 2,
   "id": "7d16e054-a00e-4841-8c42-ff0f75b1ba68",
   "metadata": {},
   "outputs": [
    {
     "name": "stdout",
     "output_type": "stream",
     "text": [
      "Brand: Toyata, Year: 2023, Electric: True\n"
     ]
    }
   ],
   "source": [
    "class car:\n",
    "    def __init__(self, brand , year, is_electric):\n",
    "        self.brand = brand\n",
    "        self.year = year\n",
    "        self.is_electric = is_electric\n",
    "        \n",
    "    def display_car_details(self):\n",
    "        print(f\"Brand: {self.brand}, Year: {self.year}, Electric: {self.is_electric}\")\n",
    "        \n",
    "my_car = car(\"Toyata\",2023,True)\n",
    "\n",
    "my_car.display_car_details()\n"
   ]
  },
  {
   "cell_type": "markdown",
   "id": "13e5be5d-07b5-469b-88ec-c2fb7c8aacd2",
   "metadata": {},
   "source": [
    "Q2. Name the four pillars of OOPs."
   ]
  },
  {
   "cell_type": "markdown",
   "id": "74b6c046-4b32-43d5-b3c3-2544f0bf556b",
   "metadata": {},
   "source": [
    "The Four pillars of Object oriented programming :\n",
    "1-Encapsulation\n",
    "2-Abstraction\n",
    "3-Polymorphisim\n",
    "4-Inheritance\n",
    "    "
   ]
  },
  {
   "cell_type": "markdown",
   "id": "4818f4fe-3aef-455d-808f-313097f2d6d7",
   "metadata": {},
   "source": [
    "Q3. Explain why the __init__() function is used. Give a suitable example.\n"
   ]
  },
  {
   "cell_type": "markdown",
   "id": "39e152ec-7a3b-44fb-865d-10738692a1e3",
   "metadata": {},
   "source": [
    "The __init__() function in Python is known as a constructor and is used to initialize the instance variables of a new object. It’s called when an object is created from a class, allowing the class to set up the state of the object. "
   ]
  },
  {
   "cell_type": "code",
   "execution_count": 3,
   "id": "c6c929a2-ca48-476d-b634-086ee814d236",
   "metadata": {},
   "outputs": [
    {
     "name": "stdout",
     "output_type": "stream",
     "text": [
      "Mahendra XUV\n"
     ]
    }
   ],
   "source": [
    "class car:\n",
    "    def __init__(self,brand,model):\n",
    "        self.brand=brand\n",
    "        self.model=model\n",
    "        \n",
    "my_car = car(\"Mahendra\",\"XUV\")\n",
    "print(f\"{my_car.brand} {my_car.model}\")"
   ]
  },
  {
   "cell_type": "markdown",
   "id": "8a0f8a58-6c1d-4eae-b00a-14b5714cea3d",
   "metadata": {},
   "source": [
    "Q4. Why self is used in OOPs?"
   ]
  },
  {
   "cell_type": "markdown",
   "id": "0eebd9d4-2d61-4222-9b16-c3ddafeb5d1a",
   "metadata": {},
   "source": [
    "In object-oriented programming (OOP) in Python, the self keyword is used to refer to the instance of the class itself. It is \n",
    "a reference to the current instance of the class and is passed as the first parameter to the methods defined within the class."
   ]
  },
  {
   "cell_type": "markdown",
   "id": "39bc4c28-5220-42d2-8a76-aa61b93b0430",
   "metadata": {},
   "source": [
    "Q5. What is inheritance? Give an example for each type of inheritance."
   ]
  },
  {
   "cell_type": "markdown",
   "id": "a6f74864-bdd7-4d0e-955b-0fc7058f15f8",
   "metadata": {},
   "source": [
    "Inheritance in object-oriented programming (OOP) is a mechanism where a new class is derived from an existing class. \n",
    "The new class is called the derived or child class, and the existing class is known as the base or parent class. \n",
    "Inheritance allows the child class to inherit attributes and methods from the parent class, \n",
    "promoting code reusability and the \n",
    "creation of hierarchical relationships between classes."
   ]
  },
  {
   "cell_type": "code",
   "execution_count": 6,
   "id": "745ffae9-4e06-498a-83fa-57176388d723",
   "metadata": {},
   "outputs": [
    {
     "name": "stdout",
     "output_type": "stream",
     "text": [
      "This function is in parent class.\n",
      "This function is in child class.\n"
     ]
    }
   ],
   "source": [
    "# single Inheritance\n",
    "class Parent:\n",
    "    def func1(self):\n",
    "        print(\"This function is in parent class.\")\n",
    "\n",
    "class Child(Parent):\n",
    "    def func2(self):\n",
    "        print(\"This function is in child class.\")\n",
    "\n",
    "\n",
    "obj = Child()\n",
    "obj.func1()  \n",
    "obj.func2()  "
   ]
  },
  {
   "cell_type": "code",
   "execution_count": 7,
   "id": "cebf3e15-cff1-4b70-856f-f512c6d46193",
   "metadata": {},
   "outputs": [
    {
     "name": "stdout",
     "output_type": "stream",
     "text": [
      "Father : RAM\n",
      "Mother : SITA\n"
     ]
    }
   ],
   "source": [
    "# Multiple Inheritance\n",
    "class Mother:\n",
    "    mothername = \"\"\n",
    "    def mother(self):\n",
    "        print(self.mothername)\n",
    "\n",
    "class Father:\n",
    "    fathername = \"\"\n",
    "    def father(self):\n",
    "        print(self.fathername)\n",
    "\n",
    "class Son(Mother, Father):\n",
    "    def parents(self):\n",
    "        print(\"Father :\", self.fathername)\n",
    "        print(\"Mother :\", self.mothername)\n",
    "\n",
    "\n",
    "s1 = Son()\n",
    "s1.fathername = \"RAM\"\n",
    "s1.mothername = \"SITA\"\n",
    "s1.parents()\n",
    "\n"
   ]
  },
  {
   "cell_type": "code",
   "execution_count": 11,
   "id": "6706479a-a450-4f4a-bf89-24796def2880",
   "metadata": {},
   "outputs": [
    {
     "name": "stdout",
     "output_type": "stream",
     "text": [
      "Animal speaks\n",
      "Dog barks\n",
      "Labrador fetches\n"
     ]
    }
   ],
   "source": [
    "#Multilevel inheritance\n",
    "class Animal:\n",
    "    def speak(self):\n",
    "        print(\"Animal speaks\")\n",
    "\n",
    "class Dog(Animal):\n",
    "    def bark(self):\n",
    "        print(\"Dog barks\")\n",
    "\n",
    "class Labrador(Dog):\n",
    "    def fetch(self):\n",
    "        print(\"Labrador fetches\")\n",
    "\n",
    "\n",
    "my_labrador = Labrador()\n",
    "my_labrador.speak()  \n",
    "my_labrador.bark()  \n",
    "my_labrador.fetch()  "
   ]
  }
 ],
 "metadata": {
  "kernelspec": {
   "display_name": "Python 3 (ipykernel)",
   "language": "python",
   "name": "python3"
  },
  "language_info": {
   "codemirror_mode": {
    "name": "ipython",
    "version": 3
   },
   "file_extension": ".py",
   "mimetype": "text/x-python",
   "name": "python",
   "nbconvert_exporter": "python",
   "pygments_lexer": "ipython3",
   "version": "3.10.8"
  }
 },
 "nbformat": 4,
 "nbformat_minor": 5
}
